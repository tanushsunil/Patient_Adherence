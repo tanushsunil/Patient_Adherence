{
  "cells": [
    {
      "cell_type": "code",
      "execution_count": 1,
      "metadata": {
        "id": "Wr3L-79fqTGN"
      },
      "outputs": [],
      "source": [
        "import numpy as np\n",
        "import matplotlib.pyplot as plt\n",
        "import seaborn as sns\n",
        "import pandas as pd"
      ]
    },
    {
      "cell_type": "code",
      "execution_count": 2,
      "metadata": {
        "colab": {
          "base_uri": "https://localhost:8080/",
          "height": 270
        },
        "id": "Uig1JMPxqUoZ",
        "outputId": "b4a949f0-422c-4254-d4d3-48db7e6e8870"
      },
      "outputs": [
        {
          "data": {
            "text/html": [
              "<div>\n",
              "<style scoped>\n",
              "    .dataframe tbody tr th:only-of-type {\n",
              "        vertical-align: middle;\n",
              "    }\n",
              "\n",
              "    .dataframe tbody tr th {\n",
              "        vertical-align: top;\n",
              "    }\n",
              "\n",
              "    .dataframe thead th {\n",
              "        text-align: right;\n",
              "    }\n",
              "</style>\n",
              "<table border=\"1\" class=\"dataframe\">\n",
              "  <thead>\n",
              "    <tr style=\"text-align: right;\">\n",
              "      <th></th>\n",
              "      <th>Patient_ID</th>\n",
              "      <th>Age</th>\n",
              "      <th>Gender</th>\n",
              "      <th>Marital_Status</th>\n",
              "      <th>Financial_Status</th>\n",
              "      <th>Insurance</th>\n",
              "      <th>Drug_Cost</th>\n",
              "      <th>Prescription_Period</th>\n",
              "      <th>Diabetes</th>\n",
              "      <th>Alcoholism</th>\n",
              "      <th>HyperTension</th>\n",
              "      <th>Smokes</th>\n",
              "      <th>Tuberculosis</th>\n",
              "      <th>Adherence</th>\n",
              "    </tr>\n",
              "  </thead>\n",
              "  <tbody>\n",
              "    <tr>\n",
              "      <th>0</th>\n",
              "      <td>PAT001</td>\n",
              "      <td>19</td>\n",
              "      <td>Male</td>\n",
              "      <td>Unmarried</td>\n",
              "      <td>Poor</td>\n",
              "      <td>Yes</td>\n",
              "      <td>High</td>\n",
              "      <td>7</td>\n",
              "      <td>0</td>\n",
              "      <td>0</td>\n",
              "      <td>0</td>\n",
              "      <td>0</td>\n",
              "      <td>0</td>\n",
              "      <td>No</td>\n",
              "    </tr>\n",
              "    <tr>\n",
              "      <th>1</th>\n",
              "      <td>PAT002</td>\n",
              "      <td>24</td>\n",
              "      <td>Female</td>\n",
              "      <td>Unmarried</td>\n",
              "      <td>Poor</td>\n",
              "      <td>No</td>\n",
              "      <td>High</td>\n",
              "      <td>59</td>\n",
              "      <td>0</td>\n",
              "      <td>0</td>\n",
              "      <td>0</td>\n",
              "      <td>0</td>\n",
              "      <td>0</td>\n",
              "      <td>No</td>\n",
              "    </tr>\n",
              "    <tr>\n",
              "      <th>2</th>\n",
              "      <td>PAT003</td>\n",
              "      <td>4</td>\n",
              "      <td>Female</td>\n",
              "      <td>Married</td>\n",
              "      <td>Poor</td>\n",
              "      <td>Yes</td>\n",
              "      <td>High</td>\n",
              "      <td>43</td>\n",
              "      <td>0</td>\n",
              "      <td>0</td>\n",
              "      <td>0</td>\n",
              "      <td>0</td>\n",
              "      <td>0</td>\n",
              "      <td>No</td>\n",
              "    </tr>\n",
              "    <tr>\n",
              "      <th>3</th>\n",
              "      <td>PAT004</td>\n",
              "      <td>38</td>\n",
              "      <td>Male</td>\n",
              "      <td>Unmarried</td>\n",
              "      <td>Poor</td>\n",
              "      <td>No</td>\n",
              "      <td>Low</td>\n",
              "      <td>66</td>\n",
              "      <td>0</td>\n",
              "      <td>0</td>\n",
              "      <td>0</td>\n",
              "      <td>0</td>\n",
              "      <td>0</td>\n",
              "      <td>No</td>\n",
              "    </tr>\n",
              "    <tr>\n",
              "      <th>4</th>\n",
              "      <td>PAT005</td>\n",
              "      <td>46</td>\n",
              "      <td>Female</td>\n",
              "      <td>Married</td>\n",
              "      <td>Poor</td>\n",
              "      <td>No</td>\n",
              "      <td>Low</td>\n",
              "      <td>98</td>\n",
              "      <td>0</td>\n",
              "      <td>0</td>\n",
              "      <td>0</td>\n",
              "      <td>0</td>\n",
              "      <td>0</td>\n",
              "      <td>No</td>\n",
              "    </tr>\n",
              "  </tbody>\n",
              "</table>\n",
              "</div>"
            ],
            "text/plain": [
              "  Patient_ID  Age  Gender Marital_Status Financial_Status Insurance Drug_Cost  \\\n",
              "0     PAT001   19    Male      Unmarried             Poor       Yes      High   \n",
              "1     PAT002   24  Female      Unmarried             Poor        No      High   \n",
              "2     PAT003    4  Female        Married             Poor       Yes      High   \n",
              "3     PAT004   38    Male      Unmarried             Poor        No       Low   \n",
              "4     PAT005   46  Female        Married             Poor        No       Low   \n",
              "\n",
              "   Prescription_Period  Diabetes  Alcoholism  HyperTension  Smokes  \\\n",
              "0                    7         0           0             0       0   \n",
              "1                   59         0           0             0       0   \n",
              "2                   43         0           0             0       0   \n",
              "3                   66         0           0             0       0   \n",
              "4                   98         0           0             0       0   \n",
              "\n",
              "   Tuberculosis Adherence  \n",
              "0             0        No  \n",
              "1             0        No  \n",
              "2             0        No  \n",
              "3             0        No  \n",
              "4             0        No  "
            ]
          },
          "execution_count": 2,
          "metadata": {},
          "output_type": "execute_result"
        }
      ],
      "source": [
        "dataset = pd.read_csv(r'C:\\Users\\tanus\\Desktop\\patient_adherence\\Dataset\\patient_data.csv')\n",
        "\n",
        "dataset.head()"
      ]
    },
    {
      "cell_type": "markdown",
      "metadata": {
        "id": "_R83Jm0KsV1F"
      },
      "source": [
        "#***Validate the data frame***"
      ]
    },
    {
      "cell_type": "code",
      "execution_count": 3,
      "metadata": {
        "colab": {
          "base_uri": "https://localhost:8080/"
        },
        "id": "ZaXHXkqrroob",
        "outputId": "46a32f05-248d-4e7e-fe75-7f1da6980e11"
      },
      "outputs": [
        {
          "name": "stdout",
          "output_type": "stream",
          "text": [
            "('Patient_ID', dtype('O'))\n",
            "('Age', dtype('int64'))\n",
            "('Gender', dtype('O'))\n",
            "('Marital_Status', dtype('O'))\n",
            "('Financial_Status', dtype('O'))\n",
            "('Insurance', dtype('O'))\n",
            "('Drug_Cost', dtype('O'))\n",
            "('Prescription_Period', dtype('int64'))\n",
            "('Diabetes', dtype('int64'))\n",
            "('Alcoholism', dtype('int64'))\n",
            "('HyperTension', dtype('int64'))\n",
            "('Smokes', dtype('int64'))\n",
            "('Tuberculosis', dtype('int64'))\n",
            "('Adherence', dtype('O'))\n"
          ]
        }
      ],
      "source": [
        "for dtype in dataset.dtypes.iteritems():\n",
        "    print(dtype)"
      ]
    },
    {
      "cell_type": "markdown",
      "metadata": {
        "id": "e-vw92oisikf"
      },
      "source": [
        "#***Check Data Type convert as Date column***"
      ]
    },
    {
      "cell_type": "code",
      "execution_count": 4,
      "metadata": {
        "colab": {
          "base_uri": "https://localhost:8080/"
        },
        "id": "xAB4gKthr2IK",
        "outputId": "8d9e6f0e-627e-44ac-f158-2d01c05e450d"
      },
      "outputs": [
        {
          "name": "stdout",
          "output_type": "stream",
          "text": [
            "Patient_ID             object\n",
            "Age                     int64\n",
            "Gender                 object\n",
            "Marital_Status         object\n",
            "Financial_Status       object\n",
            "Insurance              object\n",
            "Drug_Cost              object\n",
            "Prescription_Period     int64\n",
            "Diabetes                int64\n",
            "Alcoholism              int64\n",
            "HyperTension            int64\n",
            "Smokes                  int64\n",
            "Tuberculosis            int64\n",
            "Adherence              object\n",
            "dtype: object\n"
          ]
        }
      ],
      "source": [
        "for col in dataset.columns:\n",
        "    if dataset[col].dtype == 'object':\n",
        "        try:\n",
        "            dataset[col] = pd.to_datetime(dataset[col])\n",
        "        except ValueError:\n",
        "            pass\n",
        "print(dataset.dtypes)"
      ]
    },
    {
      "cell_type": "markdown",
      "metadata": {
        "id": "52lmF_d6swcd"
      },
      "source": [
        "#***validate data to check missing values***"
      ]
    },
    {
      "cell_type": "code",
      "execution_count": 5,
      "metadata": {
        "colab": {
          "base_uri": "https://localhost:8080/"
        },
        "id": "JUygwuuMqXEo",
        "outputId": "47e2d5c0-a547-4451-dfde-bbc37bd31091"
      },
      "outputs": [
        {
          "name": "stdout",
          "output_type": "stream",
          "text": [
            "Patient_ID has NO missing value!\n",
            "Age has NO missing value!\n",
            "Gender has NO missing value!\n",
            "Marital_Status has NO missing value!\n",
            "Financial_Status has NO missing value!\n",
            "Insurance has NO missing value!\n",
            "Drug_Cost has NO missing value!\n",
            "Prescription_Period has NO missing value!\n",
            "Diabetes has NO missing value!\n",
            "Alcoholism has NO missing value!\n",
            "HyperTension has NO missing value!\n",
            "Smokes has NO missing value!\n",
            "Tuberculosis has NO missing value!\n",
            "Adherence has NO missing value!\n"
          ]
        }
      ],
      "source": [
        "for col in dataset.columns:\n",
        "    miss = dataset[col].isnull().sum()\n",
        "    if miss>0:\n",
        "        print(\"{} has {} missing value(s)\".format(col,miss))\n",
        "    else:\n",
        "        print(\"{} has NO missing value!\".format(col))"
      ]
    },
    {
      "cell_type": "markdown",
      "metadata": {
        "id": "SomuVfpcs3_2"
      },
      "source": [
        "#***Conclusion:***\n",
        "*The dataset is validated now and the quality of the data available in this dataset is great.*"
      ]
    }
  ],
  "metadata": {
    "colab": {
      "name": "Data_validation_pa.ipynb",
      "provenance": []
    },
    "kernelspec": {
      "display_name": "Python 3.10.4 ('machine_learning')",
      "language": "python",
      "name": "python3"
    },
    "language_info": {
      "codemirror_mode": {
        "name": "ipython",
        "version": 3
      },
      "file_extension": ".py",
      "mimetype": "text/x-python",
      "name": "python",
      "nbconvert_exporter": "python",
      "pygments_lexer": "ipython3",
      "version": "3.10.4"
    },
    "vscode": {
      "interpreter": {
        "hash": "e18619e711af512319dd9a30216bf99120f8babb237110825d1360b7a19dbdce"
      }
    }
  },
  "nbformat": 4,
  "nbformat_minor": 0
}
